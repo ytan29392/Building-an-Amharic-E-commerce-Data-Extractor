{
 "cells": [
  {
   "cell_type": "markdown",
   "id": "08f2117f",
   "metadata": {},
   "source": [
    "Import"
   ]
  },
  {
   "cell_type": "code",
   "execution_count": 1,
   "id": "c260859e",
   "metadata": {},
   "outputs": [],
   "source": [
    "import pandas as pd\n",
    "import re\n",
    "import os"
   ]
  },
  {
   "cell_type": "markdown",
   "id": "f4a9d6d8",
   "metadata": {},
   "source": [
    "Load"
   ]
  },
  {
   "cell_type": "code",
   "execution_count": null,
   "id": "b05bc32c",
   "metadata": {},
   "outputs": [],
   "source": [
    "# Load structured Telegram data\n",
    "df = pd.read_csv('../data/structured_telegram_data.csv')\n",
    "\n",
    "# Drop rows with missing clean_text\n",
    "df = df.dropna(subset=['clean_text'])\n",
    "\n",
    "# Sample 40 messages\n",
    "sampled = df.sample(40, random_state=42).reset_index(drop=True)\n",
    "# Tokenization function for Amharic\n",
    "def tokenize_amharic(text):\n",
    "    return re.findall(r'\\w+|፡|።|፣|[^\\w\\s]', text)"
   ]
  },
  {
   "cell_type": "markdown",
   "id": "867b7dbd",
   "metadata": {},
   "source": [
    "Labeling"
   ]
  },
  {
   "cell_type": "code",
   "execution_count": null,
   "id": "37f0ee16",
   "metadata": {},
   "outputs": [],
   "source": [
    "# Prepare tokenized structure for labeling\n",
    "tokenized_samples = []\n",
    "for msg in sampled['clean_text']:\n",
    "    tokens = tokenize_amharic(msg)\n",
    "    tokenized_samples.append(tokens)\n",
    "\n",
    "# Build labeling scaffold\n",
    "labeled_data = []\n",
    "for tokens in tokenized_samples:\n",
    "    labeled_message = [(token, \"O\") for token in tokens]  # default label = O\n",
    "    labeled_data.append(labeled_message)"
   ]
  },
  {
   "cell_type": "markdown",
   "id": "1ea59997",
   "metadata": {},
   "source": [
    "Save to CoNLL format file"
   ]
  },
  {
   "cell_type": "code",
   "execution_count": null,
   "id": "bb9f3884",
   "metadata": {},
   "outputs": [],
   "source": [
    "output_path = '../data/labeled_ner_data.conll'\n",
    "os.makedirs(os.path.dirname(output_path), exist_ok=True)\n",
    "\n",
    "with open(output_path, 'w', encoding='utf-8') as f:\n",
    "    for message in labeled_data:\n",
    "        for token, label in message:\n",
    "            f.write(f\"{token} {label}\\n\")\n",
    "        f.write(\"\\n\")  # separate messages\n",
    "\n",
    "print(f\"✅ Labeled template saved to: {output_path}\")\n",
    "print(\"👉 You can now open the file and manually update the 'O' labels to:\")\n",
    "print(\"B-Product, I-Product, B-PRICE, I-PRICE, B-LOC, I-LOC\")"
   ]
  }
 ],
 "metadata": {
  "kernelspec": {
   "display_name": "venv",
   "language": "python",
   "name": "python3"
  },
  "language_info": {
   "codemirror_mode": {
    "name": "ipython",
    "version": 3
   },
   "file_extension": ".py",
   "mimetype": "text/x-python",
   "name": "python",
   "nbconvert_exporter": "python",
   "pygments_lexer": "ipython3",
   "version": "3.11.9"
  }
 },
 "nbformat": 4,
 "nbformat_minor": 5
}
