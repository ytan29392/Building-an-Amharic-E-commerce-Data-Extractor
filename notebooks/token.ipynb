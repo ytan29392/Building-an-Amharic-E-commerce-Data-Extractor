{
 "cells": [
  {
   "cell_type": "code",
   "execution_count": null,
   "metadata": {
    "colab": {
     "base_uri": "https://localhost:8080/"
    },
    "executionInfo": {
     "elapsed": 2398,
     "status": "ok",
     "timestamp": 1737125844965,
     "user": {
      "displayName": "dagmawi teferi",
      "userId": "07029241856123299398"
     },
     "user_tz": 300
    },
    "id": "z1xw9JD8sQDk",
    "outputId": "fe607616-e5dc-4c1f-8cfc-c070fb989af7"
   },
   "outputs": [
    {
     "name": "stdout",
     "output_type": "stream",
     "text": [
      "Note: you may need to restart the kernel to use updated packages.\n",
      "google.colab is not available. Skipping drive.mount().\n"
     ]
    },
    {
     "name": "stderr",
     "output_type": "stream",
     "text": [
      "ERROR: Could not find a version that satisfies the requirement google-colab (from versions: none)\n",
      "ERROR: No matching distribution found for google-colab\n"
     ]
    }
   ],
   "source": [
    "\n",
    "from google.colab import drive\n",
    "drive.mount('/content/drive')"
   ]
  },
  {
   "cell_type": "code",
   "execution_count": 3,
   "metadata": {
    "colab": {
     "base_uri": "https://localhost:8080/"
    },
    "executionInfo": {
     "elapsed": 705,
     "status": "ok",
     "timestamp": 1737124686507,
     "user": {
      "displayName": "dagmawi teferi",
      "userId": "07029241856123299398"
     },
     "user_tz": 300
    },
    "id": "17_gbuFHstd4",
    "outputId": "b4b64a10-e915-4b96-e87a-f7f5b97e99a3"
   },
   "outputs": [
    {
     "name": "stderr",
     "output_type": "stream",
     "text": [
      "Cloning into 'Telegram-e-commerce-analytics'...\n"
     ]
    }
   ],
   "source": [
    "!git clone https://github.com/Teddy-GH/Telegram-e-commerce-analytics"
   ]
  },
  {
   "cell_type": "code",
   "execution_count": 4,
   "metadata": {
    "colab": {
     "base_uri": "https://localhost:8080/"
    },
    "executionInfo": {
     "elapsed": 376,
     "status": "ok",
     "timestamp": 1737124735467,
     "user": {
      "displayName": "dagmawi teferi",
      "userId": "07029241856123299398"
     },
     "user_tz": 300
    },
    "id": "gPHG8p87s8ER",
    "outputId": "7a25b530-91f4-4bbc-bae0-aa0ff543e449"
   },
   "outputs": [
    {
     "name": "stdout",
     "output_type": "stream",
     "text": [
      "t:\\10-academy\\Week4\\Telegram-e-commerce-analytics\\notebooks\\Telegram-e-commerce-analytics\n"
     ]
    }
   ],
   "source": [
    "%cd Telegram-e-commerce-analytics/"
   ]
  },
  {
   "cell_type": "code",
   "execution_count": 5,
   "metadata": {
    "executionInfo": {
     "elapsed": 349,
     "status": "ok",
     "timestamp": 1737124786945,
     "user": {
      "displayName": "dagmawi teferi",
      "userId": "07029241856123299398"
     },
     "user_tz": 300
    },
    "id": "PmCgLrp9tKZd"
   },
   "outputs": [],
   "source": [
    "!git add ."
   ]
  },
  {
   "cell_type": "code",
   "execution_count": 6,
   "metadata": {
    "colab": {
     "base_uri": "https://localhost:8080/"
    },
    "executionInfo": {
     "elapsed": 317,
     "status": "ok",
     "timestamp": 1737124837078,
     "user": {
      "displayName": "dagmawi teferi",
      "userId": "07029241856123299398"
     },
     "user_tz": 300
    },
    "id": "JSGpsTKDtNbL",
    "outputId": "54a45718-7552-454b-f394-e10771fe6d7b"
   },
   "outputs": [
    {
     "name": "stdout",
     "output_type": "stream",
     "text": [
      "On branch task-1\n",
      "Your branch is up to date with 'origin/task-1'.\n",
      "\n",
      "nothing to commit, working tree clean\n"
     ]
    }
   ],
   "source": [
    "!git commit -m \"tokenization\""
   ]
  },
  {
   "cell_type": "code",
   "execution_count": null,
   "metadata": {
    "colab": {
     "base_uri": "https://localhost:8080/"
    },
    "executionInfo": {
     "elapsed": 10944,
     "status": "ok",
     "timestamp": 1737124986847,
     "user": {
      "displayName": "dagmawi teferi",
      "userId": "07029241856123299398"
     },
     "user_tz": 300
    },
    "id": "qR3lEGMjtEka",
    "outputId": "570eb1d7-a74f-4579-8e49-c49a158a2385"
   },
   "outputs": [],
   "source": [
    "import pandas as pd\n",
    "%pip install amseg\n",
    "%pip install pdf2image\n",
    "%pip install pytesseract\n",
    "from amseg.amharicSegmenter import AmharicSegmenter"
   ]
  },
  {
   "cell_type": "code",
   "execution_count": 15,
   "metadata": {
    "colab": {
     "base_uri": "https://localhost:8080/",
     "height": 424
    },
    "executionInfo": {
     "elapsed": 387,
     "status": "ok",
     "timestamp": 1737125897897,
     "user": {
      "displayName": "dagmawi teferi",
      "userId": "07029241856123299398"
     },
     "user_tz": 300
    },
    "id": "_dnpJ9Hgvg5D",
    "outputId": "559c4d0d-42b5-4137-8090-4ec7da8abdd9"
   },
   "outputs": [
    {
     "data": {
      "text/html": [
       "<div>\n",
       "<style scoped>\n",
       "    .dataframe tbody tr th:only-of-type {\n",
       "        vertical-align: middle;\n",
       "    }\n",
       "\n",
       "    .dataframe tbody tr th {\n",
       "        vertical-align: top;\n",
       "    }\n",
       "\n",
       "    .dataframe thead th {\n",
       "        text-align: right;\n",
       "    }\n",
       "</style>\n",
       "<table border=\"1\" class=\"dataframe\">\n",
       "  <thead>\n",
       "    <tr style=\"text-align: right;\">\n",
       "      <th></th>\n",
       "      <th>0</th>\n",
       "    </tr>\n",
       "  </thead>\n",
       "  <tbody>\n",
       "    <tr>\n",
       "      <th>0</th>\n",
       "      <td>3pcs B-PRODUCT</td>\n",
       "    </tr>\n",
       "    <tr>\n",
       "      <th>1</th>\n",
       "      <td>silicon I-PRODUCT</td>\n",
       "    </tr>\n",
       "    <tr>\n",
       "      <th>2</th>\n",
       "      <td>brush I-PRODUCT</td>\n",
       "    </tr>\n",
       "    <tr>\n",
       "      <th>3</th>\n",
       "      <td>spatulas I-PRODUCT</td>\n",
       "    </tr>\n",
       "    <tr>\n",
       "      <th>4</th>\n",
       "      <td>እስከ O</td>\n",
       "    </tr>\n",
       "    <tr>\n",
       "      <th>...</th>\n",
       "      <td>...</td>\n",
       "    </tr>\n",
       "    <tr>\n",
       "      <th>177806</th>\n",
       "      <td>ያሉበት O</td>\n",
       "    </tr>\n",
       "    <tr>\n",
       "      <th>177807</th>\n",
       "      <td>ድረስ O</td>\n",
       "    </tr>\n",
       "    <tr>\n",
       "      <th>177808</th>\n",
       "      <td>በነፃ O</td>\n",
       "    </tr>\n",
       "    <tr>\n",
       "      <th>177809</th>\n",
       "      <td>እናደርሳለን O</td>\n",
       "    </tr>\n",
       "    <tr>\n",
       "      <th>177810</th>\n",
       "      <td></td>\n",
       "    </tr>\n",
       "  </tbody>\n",
       "</table>\n",
       "<p>177811 rows × 1 columns</p>\n",
       "</div>"
      ],
      "text/plain": [
       "                         0\n",
       "0           3pcs B-PRODUCT\n",
       "1        silicon I-PRODUCT\n",
       "2          brush I-PRODUCT\n",
       "3       spatulas I-PRODUCT\n",
       "4                    እስከ O\n",
       "...                    ...\n",
       "177806              ያሉበት O\n",
       "177807               ድረስ O\n",
       "177808               በነፃ O\n",
       "177809           እናደርሳለን O\n",
       "177810                    \n",
       "\n",
       "[177811 rows x 1 columns]"
      ]
     },
     "execution_count": 15,
     "metadata": {},
     "output_type": "execute_result"
    }
   ],
   "source": [
    "with open('T:/10-academy/Week4/labeled_telegram_product_price_location.txt', 'r', encoding='utf-8') as file:\n",
    "    lines = file.readlines()\n",
    "\n",
    "# Process lines as needed\n",
    "data = [line.strip().split('\\t') for line in lines]  # Adjust the split based on your delimiter\n",
    "df = pd.DataFrame(data)\n",
    "\n",
    "df"
   ]
  },
  {
   "cell_type": "code",
   "execution_count": 17,
   "metadata": {
    "executionInfo": {
     "elapsed": 355,
     "status": "ok",
     "timestamp": 1737125938060,
     "user": {
      "displayName": "dagmawi teferi",
      "userId": "07029241856123299398"
     },
     "user_tz": 300
    },
    "id": "XB-uA6W-xc2h"
   },
   "outputs": [],
   "source": [
    "# Initialize the Amharic segmenter\n",
    "sent_punct = []\n",
    "word_punct = []\n",
    "segmenter = AmharicSegmenter(sent_punct, word_punct)\n",
    "# Process lines: separate tokens and labels\n",
    "data = [line.strip().split() for line in lines if line.strip()]  # Split based on spaces\n",
    "tokens = [item[0] for item in data]  # Extract tokens\n",
    "labels = [item[1] for item in data]  # Extract labels"
   ]
  },
  {
   "cell_type": "code",
   "execution_count": null,
   "metadata": {
    "colab": {
     "base_uri": "https://localhost:8080/"
    },
    "executionInfo": {
     "elapsed": 367,
     "status": "ok",
     "timestamp": 1737125956438,
     "user": {
      "displayName": "dagmawi teferi",
      "userId": "07029241856123299398"
     },
     "user_tz": 300
    },
    "id": "VBAQRA6_xnvY",
    "outputId": "0d4bad43-3afb-4127-ed88-662856ca18c1"
   },
   "outputs": [],
   "source": [
    "# Function to align tokens with their respective labels\n",
    "def align_tokens_with_labels(tokenizer, tokens, labels):\n",
    "    aligned_tokens = []\n",
    "    aligned_labels = []\n",
    "\n",
    "    # Tokenize each word/token with associated label\n",
    "    for word, label in zip(tokens, labels):\n",
    "        tokenized_word = tokenizer.amharic_tokenizer(word)  # Tokenize the word\n",
    "        aligned_tokens.extend(tokenized_word)  # Add tokens to the list\n",
    "\n",
    "        # Assign the label to the first subtoken and 'O' to subsequent subtokens\n",
    "        aligned_labels.extend([label] + ['O'] * (len(tokenized_word) - 1))\n",
    "\n",
    "    return aligned_tokens, aligned_labels\n",
    "\n",
    "\n",
    "# Example usage with different variable names\n",
    "new_tokens, new_labels = align_tokens_with_labels(segmenter, tokens, labels)\n",
    "\n",
    "\n",
    "# Output the first 20 aligned tokens and labels\n",
    "for token, label in zip(new_tokens[:20], new_labels[:20]):\n",
    "    print(f\"{token}: {label}\")"
   ]
  },
  {
   "cell_type": "code",
   "execution_count": 20,
   "metadata": {
    "executionInfo": {
     "elapsed": 330,
     "status": "ok",
     "timestamp": 1737125997268,
     "user": {
      "displayName": "dagmawi teferi",
      "userId": "07029241856123299398"
     },
     "user_tz": 300
    },
    "id": "QnEiGRxqxu-a"
   },
   "outputs": [],
   "source": [
    "# Saving the final tokens and labels to a CSV file\n",
    "output_df = pd.DataFrame({'Token': new_tokens, 'Label': new_labels})\n",
    "output_df.to_csv('T:/10-academy/Week4/final_tokens_labels.csv', index=False)"
   ]
  },
  {
   "cell_type": "code",
   "execution_count": 21,
   "metadata": {
    "executionInfo": {
     "elapsed": 351,
     "status": "ok",
     "timestamp": 1737126036899,
     "user": {
      "displayName": "dagmawi teferi",
      "userId": "07029241856123299398"
     },
     "user_tz": 300
    },
    "id": "yq6HiYJYx5Qp"
   },
   "outputs": [],
   "source": [
    "!git add ."
   ]
  },
  {
   "cell_type": "code",
   "execution_count": null,
   "metadata": {
    "colab": {
     "base_uri": "https://localhost:8080/"
    },
    "executionInfo": {
     "elapsed": 331,
     "status": "ok",
     "timestamp": 1737126088348,
     "user": {
      "displayName": "dagmawi teferi",
      "userId": "07029241856123299398"
     },
     "user_tz": 300
    },
    "id": "w7Zf59nbx8KH",
    "outputId": "aa057c03-a8f9-4f1f-90b9-2364d277a323"
   },
   "outputs": [],
   "source": [
    "!git commit -m\"tokenization\""
   ]
  },
  {
   "cell_type": "code",
   "execution_count": null,
   "metadata": {
    "id": "UJ_cZOsjzp4H"
   },
   "outputs": [],
   "source": []
  },
  {
   "cell_type": "markdown",
   "metadata": {
    "id": "6j8mL5Ft0CPH"
   },
   "source": []
  }
 ],
 "metadata": {
  "colab": {
   "authorship_tag": "ABX9TyOv9ZiQfhir5HjnEbuBcRVW",
   "provenance": []
  },
  "kernelspec": {
   "display_name": "venv",
   "language": "python",
   "name": "python3"
  },
  "language_info": {
   "codemirror_mode": {
    "name": "ipython",
    "version": 3
   },
   "file_extension": ".py",
   "mimetype": "text/x-python",
   "name": "python",
   "nbconvert_exporter": "python",
   "pygments_lexer": "ipython3",
   "version": "3.13.3"
  }
 },
 "nbformat": 4,
 "nbformat_minor": 0
}
