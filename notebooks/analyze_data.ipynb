{
 "cells": [
  {
   "cell_type": "markdown",
   "id": "56baa172",
   "metadata": {},
   "source": [
    "Import"
   ]
  },
  {
   "cell_type": "code",
   "execution_count": null,
   "id": "b8a5d100",
   "metadata": {},
   "outputs": [
    {
     "ename": "ModuleNotFoundError",
     "evalue": "No module named 'scripts.scraper'",
     "output_type": "error",
     "traceback": [
      "\u001b[31m---------------------------------------------------------------------------\u001b[39m",
      "\u001b[31mModuleNotFoundError\u001b[39m                       Traceback (most recent call last)",
      "\u001b[36mCell\u001b[39m\u001b[36m \u001b[39m\u001b[32mIn[7]\u001b[39m\u001b[32m, line 4\u001b[39m\n\u001b[32m      2\u001b[39m \u001b[38;5;28;01mimport\u001b[39;00m\u001b[38;5;250m \u001b[39m\u001b[34;01msys\u001b[39;00m\n\u001b[32m      3\u001b[39m sys.path.append(\u001b[33m'\u001b[39m\u001b[33m../\u001b[39m\u001b[33m'\u001b[39m)  \n\u001b[32m----> \u001b[39m\u001b[32m4\u001b[39m \u001b[38;5;28;01mfrom\u001b[39;00m\u001b[38;5;250m \u001b[39m\u001b[34;01mscripts\u001b[39;00m\u001b[34;01m.\u001b[39;00m\u001b[34;01mscraper\u001b[39;00m\u001b[38;5;250m \u001b[39m\u001b[38;5;28;01mimport\u001b[39;00m run_scraper\n\u001b[32m      6\u001b[39m \u001b[38;5;28;01mfrom\u001b[39;00m\u001b[38;5;250m \u001b[39m\u001b[34;01mdotenv\u001b[39;00m\u001b[38;5;250m \u001b[39m\u001b[38;5;28;01mimport\u001b[39;00m load_dotenv\n\u001b[32m      7\u001b[39m \u001b[38;5;28;01mimport\u001b[39;00m\u001b[38;5;250m \u001b[39m\u001b[34;01mos\u001b[39;00m\n",
      "\u001b[31mModuleNotFoundError\u001b[39m: No module named 'scripts.scraper'"
     ]
    }
   ],
   "source": [
    "import os\n",
    "import pandas as pd\n",
    "import sys\n",
    "sys.path.append('../')  \n",
    "from scripts.scraper import run_scraper"
   ]
  },
  {
   "cell_type": "markdown",
   "id": "fe179c79",
   "metadata": {},
   "source": [
    "load"
   ]
  },
  {
   "cell_type": "code",
   "execution_count": 8,
   "id": "6de961fd",
   "metadata": {},
   "outputs": [
    {
     "data": {
      "text/plain": [
       "True"
      ]
     },
     "execution_count": 8,
     "metadata": {},
     "output_type": "execute_result"
    }
   ],
   "source": [
    "from dotenv import load_dotenv\n",
    "import os\n",
    "\n",
    "load_dotenv(dotenv_path='../scripts/.env') "
   ]
  },
  {
   "cell_type": "markdown",
   "id": "3361c9a8",
   "metadata": {},
   "source": [
    "Scrap"
   ]
  },
  {
   "cell_type": "code",
   "execution_count": null,
   "id": "af5a5606",
   "metadata": {},
   "outputs": [
    {
     "ename": "NameError",
     "evalue": "name 'run_scraper' is not defined",
     "output_type": "error",
     "traceback": [
      "\u001b[31m---------------------------------------------------------------------------\u001b[39m",
      "\u001b[31mNameError\u001b[39m                                 Traceback (most recent call last)",
      "\u001b[36mCell\u001b[39m\u001b[36m \u001b[39m\u001b[32mIn[11]\u001b[39m\u001b[32m, line 13\u001b[39m\n\u001b[32m      5\u001b[39m channels = [\u001b[33m'\u001b[39m\u001b[33m@ZemenExperess\u001b[39m\u001b[33m'\u001b[39m,   \n\u001b[32m      6\u001b[39m     \u001b[33m'\u001b[39m\u001b[33m@nevacomputer\u001b[39m\u001b[33m'\u001b[39m,\n\u001b[32m      7\u001b[39m     \u001b[33m'\u001b[39m\u001b[33m@Leyueqa\u001b[39m\u001b[33m'\u001b[39m,\n\u001b[32m      8\u001b[39m     \u001b[33m'\u001b[39m\u001b[33m@MerttEka\u001b[39m\u001b[33m'\u001b[39m,\n\u001b[32m      9\u001b[39m     \u001b[33m'\u001b[39m\u001b[33m@qnashcom\u001b[39m\u001b[33m'\u001b[39m]\n\u001b[32m     10\u001b[39m \u001b[38;5;66;03m# run_scraper(api_id, api_hash, channels)\u001b[39;00m\n\u001b[32m     11\u001b[39m \n\u001b[32m     12\u001b[39m \u001b[38;5;66;03m# Run the scraper\u001b[39;00m\n\u001b[32m---> \u001b[39m\u001b[32m13\u001b[39m df, report = \u001b[43mrun_scraper\u001b[49m(api_id, api_hash, channels, limit=\u001b[32m150\u001b[39m)\n\u001b[32m     15\u001b[39m \u001b[38;5;66;03m# Show status of each channel\u001b[39;00m\n\u001b[32m     16\u001b[39m status_df = pd.DataFrame(report, columns=[\u001b[33m\"\u001b[39m\u001b[33mChannel\u001b[39m\u001b[33m\"\u001b[39m, \u001b[33m\"\u001b[39m\u001b[33mStatus\u001b[39m\u001b[33m\"\u001b[39m, \u001b[33m\"\u001b[39m\u001b[33mMessages Fetched\u001b[39m\u001b[33m\"\u001b[39m])\n",
      "\u001b[31mNameError\u001b[39m: name 'run_scraper' is not defined"
     ]
    }
   ],
   "source": [
    "# These are loaded from your .env already\n",
    "api_id = int(os.getenv(\"API_ID\"))\n",
    "api_hash = os.getenv(\"API_HASH\")\n",
    "\n",
    "channels = ['@ZemenExperess',   \n",
    "    '@nevacomputer',\n",
    "    '@Leyueqa',\n",
    "    '@MerttEka',\n",
    "    '@qnashcom']\n",
    "\n",
    "# Run the scraper\n",
    "df, report = run_scraper(api_id, api_hash, channels, limit=150)\n",
    "\n",
    "# Show status of each channel\n",
    "status_df = pd.DataFrame(report, columns=[\"Channel\", \"Status\", \"Messages Fetched\"])\n",
    "status_df\n"
   ]
  }
 ],
 "metadata": {
  "kernelspec": {
   "display_name": "venv",
   "language": "python",
   "name": "python3"
  },
  "language_info": {
   "codemirror_mode": {
    "name": "ipython",
    "version": 3
   },
   "file_extension": ".py",
   "mimetype": "text/x-python",
   "name": "python",
   "nbconvert_exporter": "python",
   "pygments_lexer": "ipython3",
   "version": "3.11.9"
  }
 },
 "nbformat": 4,
 "nbformat_minor": 5
}
