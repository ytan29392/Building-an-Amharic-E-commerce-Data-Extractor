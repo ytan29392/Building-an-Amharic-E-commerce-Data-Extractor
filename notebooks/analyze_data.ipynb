{
 "cells": [
  {
   "cell_type": "markdown",
   "id": "56baa172",
   "metadata": {},
   "source": [
    "Import"
   ]
  },
  {
   "cell_type": "code",
   "execution_count": 14,
   "id": "b8a5d100",
   "metadata": {},
   "outputs": [],
   "source": [
    "import os\n",
    "import pandas as pd\n",
    "import sys\n"
   ]
  },
  {
   "cell_type": "markdown",
   "id": "fe179c79",
   "metadata": {},
   "source": [
    "load"
   ]
  },
  {
   "cell_type": "code",
   "execution_count": 8,
   "id": "6de961fd",
   "metadata": {},
   "outputs": [
    {
     "data": {
      "text/plain": [
       "True"
      ]
     },
     "execution_count": 8,
     "metadata": {},
     "output_type": "execute_result"
    }
   ],
   "source": [
    "from dotenv import load_dotenv\n",
    "import os\n",
    "\n",
    "load_dotenv(dotenv_path='../scripts/.env') "
   ]
  },
  {
   "cell_type": "markdown",
   "id": "3361c9a8",
   "metadata": {},
   "source": [
    "Scrap"
   ]
  },
  {
   "cell_type": "code",
   "execution_count": 15,
   "id": "af5a5606",
   "metadata": {},
   "outputs": [
    {
     "ename": "ModuleNotFoundError",
     "evalue": "No module named 'scripts.scraper'",
     "output_type": "error",
     "traceback": [
      "\u001b[31m---------------------------------------------------------------------------\u001b[39m",
      "\u001b[31mModuleNotFoundError\u001b[39m                       Traceback (most recent call last)",
      "\u001b[36mCell\u001b[39m\u001b[36m \u001b[39m\u001b[32mIn[15]\u001b[39m\u001b[32m, line 2\u001b[39m\n\u001b[32m      1\u001b[39m sys.path.append(\u001b[33m'\u001b[39m\u001b[33m../\u001b[39m\u001b[33m'\u001b[39m)  \n\u001b[32m----> \u001b[39m\u001b[32m2\u001b[39m \u001b[38;5;28;01mfrom\u001b[39;00m\u001b[38;5;250m \u001b[39m\u001b[34;01mscripts\u001b[39;00m\u001b[34;01m.\u001b[39;00m\u001b[34;01mscraper\u001b[39;00m\u001b[38;5;250m \u001b[39m\u001b[38;5;28;01mimport\u001b[39;00m run_scraper\n\u001b[32m      4\u001b[39m \u001b[38;5;66;03m# These are loaded from your .env already\u001b[39;00m\n\u001b[32m      5\u001b[39m api_id = \u001b[38;5;28mint\u001b[39m(os.getenv(\u001b[33m\"\u001b[39m\u001b[33mAPI_ID\u001b[39m\u001b[33m\"\u001b[39m))\n",
      "\u001b[31mModuleNotFoundError\u001b[39m: No module named 'scripts.scraper'"
     ]
    }
   ],
   "source": [
    "sys.path.append('../')  \n",
    "from scripts.scraper import run_scraper\n",
    "\n",
    "# These are loaded from your .env already\n",
    "api_id = int(os.getenv(\"API_ID\"))\n",
    "api_hash = os.getenv(\"API_HASH\")\n",
    "\n",
    "channels = ['@ZemenExperess',   \n",
    "    '@nevacomputer',\n",
    "    '@Leyueqa',\n",
    "    '@MerttEka',\n",
    "    '@qnashcom']\n",
    "\n",
    "# Run the scraper\n",
    "df, report = run_scraper(api_id, api_hash, channels, limit=150)\n",
    "\n",
    "# Show status of each channel\n",
    "status_df = pd.DataFrame(report, columns=[\"Channel\", \"Status\", \"Messages Fetched\"])\n",
    "status_df\n"
   ]
  }
 ],
 "metadata": {
  "kernelspec": {
   "display_name": "venv",
   "language": "python",
   "name": "python3"
  },
  "language_info": {
   "codemirror_mode": {
    "name": "ipython",
    "version": 3
   },
   "file_extension": ".py",
   "mimetype": "text/x-python",
   "name": "python",
   "nbconvert_exporter": "python",
   "pygments_lexer": "ipython3",
   "version": "3.11.9"
  }
 },
 "nbformat": 4,
 "nbformat_minor": 5
}
