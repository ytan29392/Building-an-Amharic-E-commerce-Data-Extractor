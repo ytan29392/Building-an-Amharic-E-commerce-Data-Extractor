{
 "cells": [
  {
   "cell_type": "markdown",
   "id": "56baa172",
   "metadata": {},
   "source": [
    "Import"
   ]
  },
  {
   "cell_type": "code",
   "execution_count": null,
   "id": "b8a5d100",
   "metadata": {},
   "outputs": [
    {
     "ename": "ModuleNotFoundError",
     "evalue": "No module named 'scripts.telegram_scraper'",
     "output_type": "error",
     "traceback": [
      "\u001b[31m---------------------------------------------------------------------------\u001b[39m",
      "\u001b[31mModuleNotFoundError\u001b[39m                       Traceback (most recent call last)",
      "\u001b[36mCell\u001b[39m\u001b[36m \u001b[39m\u001b[32mIn[3]\u001b[39m\u001b[32m, line 5\u001b[39m\n\u001b[32m      3\u001b[39m \u001b[38;5;28;01mimport\u001b[39;00m\u001b[38;5;250m \u001b[39m\u001b[34;01msys\u001b[39;00m\n\u001b[32m      4\u001b[39m sys.path.append(os.path.abspath(os.path.join(os.getcwd(), \u001b[33m'\u001b[39m\u001b[33m..\u001b[39m\u001b[33m'\u001b[39m)))\n\u001b[32m----> \u001b[39m\u001b[32m5\u001b[39m \u001b[38;5;28;01mfrom\u001b[39;00m\u001b[38;5;250m \u001b[39m\u001b[34;01mscripts\u001b[39;00m\u001b[34;01m.\u001b[39;00m\u001b[34;01mtelegram_scraper\u001b[39;00m\u001b[38;5;250m \u001b[39m\u001b[38;5;28;01mimport\u001b[39;00m run_scraper\n",
      "\u001b[31mModuleNotFoundError\u001b[39m: No module named 'scripts.telegram_scraper'"
     ]
    }
   ],
   "source": [
    "%pip install pandas --quiet\n",
    "\n",
    "import os\n",
    "import pandas as pd\n",
    "import sys\n",
    "sys.path.append(os.path.abspath(os.path.join(os.getcwd(), '..')))\n",
    "from scripts.telegram_scraper import run_scraper"
   ]
  },
  {
   "cell_type": "markdown",
   "id": "3361c9a8",
   "metadata": {},
   "source": [
    "Scrap"
   ]
  },
  {
   "cell_type": "code",
   "execution_count": null,
   "id": "af5a5606",
   "metadata": {},
   "outputs": [],
   "source": [
    "# Your Telegram API credentials (replace with yours)\n",
    "api_id = 1234567  # Replace with actual ID\n",
    "api_hash = \"your_api_hash_here\"\n",
    "\n",
    "# At least 5 public Telegram e-commerce channels\n",
    "channels = [\n",
    "    'shageronlinestore',\n",
    "    'addismarketchannel',\n",
    "    'ethiomartstore',\n",
    "    'amharicbazaar',\n",
    "    'ethiosupermarket'\n",
    "]\n",
    "\n",
    "# Run the scraper\n",
    "df, report = run_scraper(api_id, api_hash, channels, limit=150)\n",
    "\n",
    "# Show status of each channel\n",
    "status_df = pd.DataFrame(report, columns=[\"Channel\", \"Status\", \"Messages Fetched\"])\n",
    "status_df\n"
   ]
  }
 ],
 "metadata": {
  "kernelspec": {
   "display_name": "venv",
   "language": "python",
   "name": "python3"
  },
  "language_info": {
   "codemirror_mode": {
    "name": "ipython",
    "version": 3
   },
   "file_extension": ".py",
   "mimetype": "text/x-python",
   "name": "python",
   "nbconvert_exporter": "python",
   "pygments_lexer": "ipython3",
   "version": "3.11.9"
  }
 },
 "nbformat": 4,
 "nbformat_minor": 5
}
