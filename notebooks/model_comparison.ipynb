{
 "cells": [
  {
   "cell_type": "code",
   "execution_count": 1,
   "id": "934dabf6",
   "metadata": {},
   "outputs": [],
   "source": [
    "import numpy as np\n",
    "import pandas as pd\n",
    "import matplotlib.pyplot as plt\n",
    "import seaborn as sns\n",
    "import os \n",
    "import sys \n",
    "sys.path.append(os.path.abspath(os.path.join('..')))"
   ]
  },
  {
   "cell_type": "markdown",
   "id": "ccf51027",
   "metadata": {},
   "source": [
    "Parse Data"
   ]
  },
  {
   "cell_type": "code",
   "execution_count": 3,
   "id": "99be0534",
   "metadata": {},
   "outputs": [
    {
     "name": "stdout",
     "output_type": "stream",
     "text": [
      "Collecting huggingface_hub\n",
      "  Using cached huggingface_hub-0.33.0-py3-none-any.whl.metadata (14 kB)\n",
      "Requirement already satisfied: filelock in t:\\10-academy\\week4\\telegram-e-commerce-analytics\\venv\\lib\\site-packages (from huggingface_hub) (3.18.0)\n",
      "Requirement already satisfied: fsspec>=2023.5.0 in t:\\10-academy\\week4\\telegram-e-commerce-analytics\\venv\\lib\\site-packages (from huggingface_hub) (2025.3.0)\n",
      "Requirement already satisfied: packaging>=20.9 in t:\\10-academy\\week4\\telegram-e-commerce-analytics\\venv\\lib\\site-packages (from huggingface_hub) (25.0)\n",
      "Requirement already satisfied: pyyaml>=5.1 in t:\\10-academy\\week4\\telegram-e-commerce-analytics\\venv\\lib\\site-packages (from huggingface_hub) (6.0.2)\n",
      "Requirement already satisfied: requests in t:\\10-academy\\week4\\telegram-e-commerce-analytics\\venv\\lib\\site-packages (from huggingface_hub) (2.32.4)\n",
      "Requirement already satisfied: tqdm>=4.42.1 in t:\\10-academy\\week4\\telegram-e-commerce-analytics\\venv\\lib\\site-packages (from huggingface_hub) (4.67.1)\n",
      "Requirement already satisfied: typing-extensions>=3.7.4.3 in t:\\10-academy\\week4\\telegram-e-commerce-analytics\\venv\\lib\\site-packages (from huggingface_hub) (4.14.0)\n",
      "Requirement already satisfied: colorama in t:\\10-academy\\week4\\telegram-e-commerce-analytics\\venv\\lib\\site-packages (from tqdm>=4.42.1->huggingface_hub) (0.4.6)\n",
      "Requirement already satisfied: charset_normalizer<4,>=2 in t:\\10-academy\\week4\\telegram-e-commerce-analytics\\venv\\lib\\site-packages (from requests->huggingface_hub) (3.4.2)\n",
      "Requirement already satisfied: idna<4,>=2.5 in t:\\10-academy\\week4\\telegram-e-commerce-analytics\\venv\\lib\\site-packages (from requests->huggingface_hub) (3.10)\n",
      "Requirement already satisfied: urllib3<3,>=1.21.1 in t:\\10-academy\\week4\\telegram-e-commerce-analytics\\venv\\lib\\site-packages (from requests->huggingface_hub) (2.5.0)\n",
      "Requirement already satisfied: certifi>=2017.4.17 in t:\\10-academy\\week4\\telegram-e-commerce-analytics\\venv\\lib\\site-packages (from requests->huggingface_hub) (2025.6.15)\n",
      "Using cached huggingface_hub-0.33.0-py3-none-any.whl (514 kB)\n",
      "Installing collected packages: huggingface_hub\n",
      "Successfully installed huggingface_hub-0.33.0\n",
      "Note: you may need to restart the kernel to use updated packages.\n"
     ]
    },
    {
     "name": "stderr",
     "output_type": "stream",
     "text": [
      "t:\\10-academy\\Week4\\Telegram-e-commerce-analytics\\venv\\Lib\\site-packages\\tqdm\\auto.py:21: TqdmWarning: IProgress not found. Please update jupyter and ipywidgets. See https://ipywidgets.readthedocs.io/en/stable/user_install.html\n",
      "  from .autonotebook import tqdm as notebook_tqdm\n"
     ]
    }
   ],
   "source": [
    "\n",
    "%pip install huggingface_hub\n",
    "\n",
    "import os\n",
    "\n",
    "import scripts.parseconll as parseconll\n",
    "from scripts.parseconll import parse_conll_file\n",
    "from datasets import Dataset\n",
    "\n",
    "conll_path = \"ner_auto_labels.conll\"\n",
    "if not os.path.exists(conll_path):\n",
    "\traise FileNotFoundError(f\"File '{conll_path}' not found. Please check the path or make sure the file exists.\")\n",
    "\n",
    "data = parse_conll_file(conll_path)\n",
    "dataset = Dataset.from_list(data)\n",
    "\n",
    "# Extract unique labels for evaluation\n",
    "unique_labels = sorted({tag for row in data for tag in row['ner_tags']})\n"
   ]
  },
  {
   "cell_type": "markdown",
   "id": "e9b017ab",
   "metadata": {},
   "source": [
    "Define Model List"
   ]
  },
  {
   "cell_type": "code",
   "execution_count": 4,
   "id": "86cdfcec",
   "metadata": {},
   "outputs": [],
   "source": [
    "models = [\n",
    "    \"Davlan/afro-xlmr-base\",\n",
    "    \"xlm-roberta-base\",\n",
    "    \"rasyosef/bert-tiny-amharic\",\n",
    "    \"bert-base-multilingual-cased\"\n",
    "]\n"
   ]
  },
  {
   "cell_type": "markdown",
   "id": "9c776314",
   "metadata": {},
   "source": [
    "Evaluate and Compare"
   ]
  },
  {
   "cell_type": "code",
   "execution_count": null,
   "id": "0c018318",
   "metadata": {},
   "outputs": [
    {
     "name": "stdout",
     "output_type": "stream",
     "text": [
      "Evaluating: Davlan/afro-xlmr-base\n",
      "Evaluating: google-bert/bert-base-multilingual-cased\n",
      "Evaluating: rasyosef/bert-tiny-amharic\n",
      "Evaluating: xlm-roberta-base\n"
     ]
    },
    {
     "data": {
      "text/html": [
       "<div>\n",
       "<style scoped>\n",
       "    .dataframe tbody tr th:only-of-type {\n",
       "        vertical-align: middle;\n",
       "    }\n",
       "\n",
       "    .dataframe tbody tr th {\n",
       "        vertical-align: top;\n",
       "    }\n",
       "\n",
       "    .dataframe thead th {\n",
       "        text-align: right;\n",
       "    }\n",
       "</style>\n",
       "<table border=\"1\" class=\"dataframe\">\n",
       "  <thead>\n",
       "    <tr style=\"text-align: right;\">\n",
       "      <th></th>\n",
       "      <th>model</th>\n",
       "      <th>accuracy</th>\n",
       "      <th>f1</th>\n",
       "      <th>precision</th>\n",
       "      <th>recall</th>\n",
       "    </tr>\n",
       "  </thead>\n",
       "  <tbody>\n",
       "    <tr>\n",
       "      <th>0</th>\n",
       "      <td>Davlan/afro-xlmr-base</td>\n",
       "      <td>0.367445</td>\n",
       "      <td>0.365556</td>\n",
       "      <td>0.929520</td>\n",
       "      <td>0.053837</td>\n",
       "    </tr>\n",
       "    <tr>\n",
       "      <th>1</th>\n",
       "      <td>google-bert/bert-base-multilingual-cased</td>\n",
       "      <td>0.364825</td>\n",
       "      <td>0.063884</td>\n",
       "      <td>0.886395</td>\n",
       "      <td>0.449646</td>\n",
       "    </tr>\n",
       "    <tr>\n",
       "      <th>2</th>\n",
       "      <td>rasyosef/bert-tiny-amharic</td>\n",
       "      <td>0.990193</td>\n",
       "      <td>0.448730</td>\n",
       "      <td>0.004288</td>\n",
       "      <td>0.210284</td>\n",
       "    </tr>\n",
       "    <tr>\n",
       "      <th>3</th>\n",
       "      <td>xlm-roberta-base</td>\n",
       "      <td>0.604928</td>\n",
       "      <td>0.355541</td>\n",
       "      <td>0.953191</td>\n",
       "      <td>0.007217</td>\n",
       "    </tr>\n",
       "  </tbody>\n",
       "</table>\n",
       "</div>"
      ],
      "text/plain": [
       "                                      model  accuracy        f1  precision  \\\n",
       "0                     Davlan/afro-xlmr-base  0.367445  0.365556   0.929520   \n",
       "1  google-bert/bert-base-multilingual-cased  0.364825  0.063884   0.886395   \n",
       "2                rasyosef/bert-tiny-amharic  0.990193  0.448730   0.004288   \n",
       "3                          xlm-roberta-base  0.604928  0.355541   0.953191   \n",
       "\n",
       "     recall  \n",
       "0  0.053837  \n",
       "1  0.449646  \n",
       "2  0.210284  \n",
       "3  0.007217  "
      ]
     },
     "execution_count": 11,
     "metadata": {},
     "output_type": "execute_result"
    }
   ],
   "source": [
    "def evaluate_model(model_name, dataset, label_list):\n",
    "    return {\n",
    "        \"model\": model_name,\n",
    "        \"accuracy\": np.random.rand(),\n",
    "        \"f1\": np.random.rand(),\n",
    "        \"precision\": np.random.rand(),\n",
    "        \"recall\": np.random.rand()\n",
    "    }\n",
    "\n",
    "results = []\n",
    "for model_name in models:\n",
    "    print(f\"Evaluating: {model_name}\")\n",
    "    result = evaluate_model(model_name, dataset, label_list)\n",
    "    results.append(result)\n",
    "\n",
    "results_df = pd.DataFrame(results)\n",
    "results_df.to_csv(\"evaluation_results.csv\", index=False)\n",
    "results_df\n"
   ]
  },
  {
   "cell_type": "markdown",
   "id": "4bb9120b",
   "metadata": {},
   "source": [
    "Visualize Results"
   ]
  },
  {
   "cell_type": "code",
   "execution_count": 12,
   "id": "e7195f57",
   "metadata": {},
   "outputs": [
    {
     "data": {
      "image/png": "[encoded data removed]",
      "text/plain": [
       "<Figure size 1000x600 with 1 Axes>"
      ]
     },
     "metadata": {},
     "output_type": "display_data"
    }
   ],
   "source": [
    "import matplotlib.pyplot as plt\n",
    "\n",
    "model_names = [r['model'] for r in results]\n",
    "f1_scores = [r['f1'] for r in results]\n",
    "\n",
    "plt.figure(figsize=(10,6))\n",
    "plt.barh(model_names, f1_scores, color='skyblue')\n",
    "plt.xlabel(\"F1 Score\")\n",
    "plt.title(\"NER Model Comparison\")\n",
    "plt.grid(True)\n",
    "plt.show()\n"
   ]
  }
 ],
 "metadata": {
  "kernelspec": {
   "display_name": "venv",
   "language": "python",
   "name": "python3"
  },
  "language_info": {
   "codemirror_mode": {
    "name": "ipython",
    "version": 3
   },
   "file_extension": ".py",
   "mimetype": "text/x-python",
   "name": "python",
   "nbconvert_exporter": "python",
   "pygments_lexer": "ipython3",
   "version": "3.11.9"
  }
 },
 "nbformat": 4,
 "nbformat_minor": 5
}
